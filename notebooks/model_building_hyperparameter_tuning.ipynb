{
 "cells": [
  {
   "cell_type": "markdown",
   "metadata": {},
   "source": [
    "\n",
    "## 10 Academy: Artificial Intelligence Mastery\n",
    "### Project: Enhanced Fraud Detection for E-Commerce and Banking Transactions\n",
    "#### Model Building and Training : hyperparameter_tuning ,MLops and saving model\n",
    "\n",
    "##### Ethel Cherotaw\n"
   ]
  },
  {
   "cell_type": "code",
   "execution_count": 1,
   "metadata": {},
   "outputs": [],
   "source": [
    "import sys\n",
    "import pandas as pd\n",
    "scripts_dir = r'E:\\DS+ML\\AIM3\\WEEK.12\\Enhanced-Fraud-Detection-for-E-Commerce-and-Banking-Transactions\\scripts'\n",
    "src_dir = r'E:\\DS+ML\\AIM3\\WEEK.12\\Enhanced-Fraud-Detection-for-E-Commerce-and-Banking-Transactions\\src'\n",
    "output_path = r\"E:\\DS+ML\\AIM3\\WEEK.12\\Data\"\n",
    "# Add directories to the Python path if they are not already included\n",
    "if scripts_dir not in sys.path:\n",
    "    sys.path.append(scripts_dir)\n",
    "if src_dir not in sys.path:\n",
    "    sys.path.append(src_dir)"
   ]
  },
  {
   "cell_type": "code",
   "execution_count": 2,
   "metadata": {},
   "outputs": [],
   "source": [
    "from hyperparameter_tuning import FraudDetectionModel"
   ]
  },
  {
   "cell_type": "code",
   "execution_count": 3,
   "metadata": {},
   "outputs": [],
   "source": [
    "credit_file = \"E:/DS+ML/AIM3/WEEK.12/Data/featured_credit_data.csv\"\n",
    "fraud_file = \"E:/DS+ML/AIM3/WEEK.12/Data/featured_fraud_data.csv\"\n",
    "# Create an instance of the class\n",
    "fraud_detection = FraudDetectionModel(credit_file, fraud_file)"
   ]
  },
  {
   "cell_type": "code",
   "execution_count": 4,
   "metadata": {},
   "outputs": [
    {
     "name": "stderr",
     "output_type": "stream",
     "text": [
      "2025/03/09 19:20:15 INFO mlflow.tracking.fluent: Experiment with name 'Hyperparameter_Tuning_credit' does not exist. Creating a new experiment.\n"
     ]
    },
    {
     "name": "stdout",
     "output_type": "stream",
     "text": [
      "Tuning Random Forest for Credit Dataset...\n",
      "Best Random Forest Parameters: {'bootstrap': True, 'ccp_alpha': 0.0, 'class_weight': None, 'criterion': 'gini', 'max_depth': 17, 'max_features': 'sqrt', 'max_leaf_nodes': None, 'max_samples': None, 'min_impurity_decrease': 0.0, 'min_samples_leaf': 1, 'min_samples_split': 6, 'min_weight_fraction_leaf': 0.0, 'monotonic_cst': None, 'n_estimators': 202, 'n_jobs': None, 'oob_score': False, 'random_state': 42, 'verbose': 0, 'warm_start': False}\n"
     ]
    },
    {
     "name": "stderr",
     "output_type": "stream",
     "text": [
      "2025/03/09 20:40:53 WARNING mlflow.models.model: Model logged without a signature and input example. Please set `input_example` parameter when logging the model to auto infer the model signature.\n"
     ]
    }
   ],
   "source": [
    "fraud_detection.run(\"credit\")\n"
   ]
  },
  {
   "cell_type": "code",
   "execution_count": 5,
   "metadata": {},
   "outputs": [
    {
     "name": "stderr",
     "output_type": "stream",
     "text": [
      "2025/03/09 20:41:13 INFO mlflow.tracking.fluent: Experiment with name 'Hyperparameter_Tuning_fraud' does not exist. Creating a new experiment.\n",
      "E:\\DS+ML\\AIM3\\WEEK.12\\Enhanced-Fraud-Detection-for-E-Commerce-and-Banking-Transactions\\scripts\\hyperparameter_tuning.py:46: UserWarning: Could not infer format, so each element will be parsed individually, falling back to `dateutil`. To ensure parsing is consistent and as-expected, please specify a format.\n",
      "  data[col] = pd.to_datetime(data[col], errors='raise')\n",
      "INFO:hyperparameter_tuning:Processing high cardinality columns: ['device_id']\n",
      "INFO:hyperparameter_tuning:Processing low cardinality columns: ['country']\n",
      "WARNING:hyperparameter_tuning:Dropping columns with all NaNs: ['ip_address']\n"
     ]
    },
    {
     "name": "stdout",
     "output_type": "stream",
     "text": [
      "Tuning Gradient Boosting for Fraud Dataset...\n",
      "Best Gradient Boosting Parameters: {'ccp_alpha': 0.0, 'criterion': 'friedman_mse', 'init': None, 'learning_rate': 0.014116898859160489, 'loss': 'log_loss', 'max_depth': 4, 'max_features': None, 'max_leaf_nodes': None, 'min_impurity_decrease': 0.0, 'min_samples_leaf': 1, 'min_samples_split': 9, 'min_weight_fraction_leaf': 0.0, 'n_estimators': 257, 'n_iter_no_change': None, 'random_state': 42, 'subsample': 1.0, 'tol': 0.0001, 'validation_fraction': 0.1, 'verbose': 0, 'warm_start': False}\n"
     ]
    },
    {
     "name": "stderr",
     "output_type": "stream",
     "text": [
      "2025/03/09 21:10:48 WARNING mlflow.models.model: Model logged without a signature and input example. Please set `input_example` parameter when logging the model to auto infer the model signature.\n"
     ]
    }
   ],
   "source": [
    "fraud_detection.run(\"fraud\")"
   ]
  }
 ],
 "metadata": {
  "kernelspec": {
   "display_name": "Python (env)",
   "language": "python",
   "name": "env"
  },
  "language_info": {
   "codemirror_mode": {
    "name": "ipython",
    "version": 3
   },
   "file_extension": ".py",
   "mimetype": "text/x-python",
   "name": "python",
   "nbconvert_exporter": "python",
   "pygments_lexer": "ipython3",
   "version": "3.12.8"
  }
 },
 "nbformat": 4,
 "nbformat_minor": 2
}
